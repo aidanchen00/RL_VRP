{
 "cells": [
  {
   "cell_type": "code",
   "execution_count": 1,
   "metadata": {
    "id": "G1Bcwk5HfeTr",
    "tags": []
   },
   "outputs": [],
   "source": [
    "#!pip install matplotlib\n",
    "#!pip install torch\n",
    "#!pip install gym"
   ]
  },
  {
   "cell_type": "code",
   "execution_count": 2,
   "metadata": {
    "scrolled": true,
    "tags": []
   },
   "outputs": [
    {
     "data": {
      "text/plain": [
       "'\\nfrom IPython import display\\nfrom collections import namedtuple\\nimport torch.nn as nn\\nimport torch.optim as optim\\nfrom collections import deque\\nfrom itertools import count\\nimport torch.nn.functional as F\\n'"
      ]
     },
     "execution_count": 2,
     "metadata": {},
     "output_type": "execute_result"
    }
   ],
   "source": [
    "#Import neccessary libraries\n",
    "import gym\n",
    "from gym import spaces\n",
    "import numpy as np\n",
    "import copy\n",
    "import numpy as np\n",
    "import math as m\n",
    "import random as r\n",
    "import matplotlib\n",
    "import matplotlib.pyplot as plt\n",
    "from collections import namedtuple, deque\n",
    "from itertools import count\n",
    "import torch\n",
    "import torch.nn as nn\n",
    "import torch.optim as optim\n",
    "import torch.nn.functional as F\n",
    "\"\"\"\n",
    "from IPython import display\n",
    "from collections import namedtuple\n",
    "import torch.nn as nn\n",
    "import torch.optim as optim\n",
    "from collections import deque\n",
    "from itertools import count\n",
    "import torch.nn.functional as F\n",
    "\"\"\""
   ]
  },
  {
   "cell_type": "code",
   "execution_count": 3,
   "metadata": {
    "colab": {
     "base_uri": "https://localhost:8080/"
    },
    "id": "4ox3GzGtjBiB",
    "outputId": "e50abe91-530a-4e0a-f0db-bf460a759c8f",
    "tags": []
   },
   "outputs": [],
   "source": [
    "import gym\n",
    "# Register the environment\n",
    "gym.register(\n",
    "    id='vehicleRouting-v0',\n",
    "    entry_point='Julian_1cyc_Zelda_my_vre_no_norm:vehicleRoutingEnv',\n",
    "    kwargs={'current_customer_list': None, 'current_truck_capacity': None, 'total_truck_capacity': None, 'depot_location': None}\n",
    ")"
   ]
  },
  {
   "cell_type": "code",
   "execution_count": 4,
   "metadata": {},
   "outputs": [],
   "source": [
    "def normalized_instance_creator(cust_max_dem, truck_cap, num_cust, num_row, num_col):\n",
    "    depot = (r.random(),r.random())\n",
    "    occupied_coords=[]\n",
    "    occupied_coords.append(depot)\n",
    "    current_customer_list=[]\n",
    "    current_customer_list.append(depot)\n",
    "    for cust in range(num_cust):\n",
    "        customer=[]\n",
    "        coord=depot\n",
    "        while coord in occupied_coords:\n",
    "            coord=(r.random(),r.random())\n",
    "        occupied_coords.append(coord)\n",
    "        customer.append(coord)\n",
    "        demand=(r.randint(1,cust_max_dem))\n",
    "        customer.append(demand)\n",
    "        distance_to_depot=dist = (m.sqrt(((depot[0]-coord[0])**2)+(depot[1]-coord[1])**2))\n",
    "        customer.append(distance_to_depot)\n",
    "        distance_to_truck=distance_to_depot\n",
    "        customer.append(distance_to_truck)\n",
    "        position_to_depot=(coord[0]-depot[0],coord[1]-depot[1])\n",
    "        customer.append(position_to_depot)\n",
    "        position_to_truck=position_to_depot\n",
    "        customer.append(position_to_truck)\n",
    "        current_customer_list.append(customer)\n",
    "    current_truck_capacity=truck_cap\n",
    "    total_truck_capacity=truck_cap\n",
    "    return current_customer_list, current_truck_capacity, total_truck_capacity, depot"
   ]
  },
  {
   "cell_type": "code",
   "execution_count": 5,
   "metadata": {
    "id": "gaoVhwzgvS3t",
    "tags": []
   },
   "outputs": [],
   "source": [
    "#Generate random problem instance, generating random values (some within range, like demand) for matrices and locations\n",
    "#self, info_vector, customer_location_matrix, truck_location_matrix, customer_demand_matrix, truck_capacity_matrix, customer_timeframe_matrix, truck_timeframe_matrix, customer_location_tuple_list\n",
    "#Generate instance function would be entirely seperate from solver\n",
    "#Outer creates problem instance, then calls solve entire problem, input tuple of location\n",
    "def instance_creator(cust_max_dem, truck_cap, num_cust, num_row, num_col):\n",
    "    depot = (r.randint(0,num_row-1),r.randint(0,num_col)-1)\n",
    "    occupied_coords=[]\n",
    "    occupied_coords.append(depot)\n",
    "    current_customer_list=[]\n",
    "    current_customer_list.append(depot)\n",
    "    for cust in range(num_cust):\n",
    "        customer=[]\n",
    "        coord=depot\n",
    "        while coord in occupied_coords:\n",
    "            coord=(r.randint(0,num_row-1),r.randint(0,num_col)-1)\n",
    "        occupied_coords.append(coord)\n",
    "        customer.append(coord)\n",
    "        demand=(r.randint(1,cust_max_dem))\n",
    "        customer.append(demand)\n",
    "        distance_to_depot=dist = (m.sqrt(((depot[0]-coord[0])**2)+(depot[1]-coord[1])**2))\n",
    "        customer.append(distance_to_depot)\n",
    "        distance_to_truck=distance_to_depot\n",
    "        customer.append(distance_to_truck)\n",
    "        position_to_depot=(coord[0]-depot[0],coord[1]-depot[1])\n",
    "        customer.append(position_to_depot)\n",
    "        position_to_truck=position_to_depot\n",
    "        customer.append(position_to_truck)\n",
    "        current_customer_list.append(customer)\n",
    "    current_truck_capacity=truck_cap\n",
    "    total_truck_capacity=truck_cap\n",
    "    return current_customer_list, current_truck_capacity, total_truck_capacity, depot\n",
    "    "
   ]
  },
  {
   "cell_type": "markdown",
   "metadata": {},
   "source": [
    "## Define the problem values"
   ]
  },
  {
   "cell_type": "code",
   "execution_count": 6,
   "metadata": {
    "tags": []
   },
   "outputs": [],
   "source": [
    "#Defining problem instance variables\n",
    "#Changing the numbers, changes the single instance NN is training\n",
    "\n",
    "# KEVIN\n",
    "cust_max_dem = 5\n",
    "truck_cap = 12\n",
    "num_cust = 2\n",
    "num_row = 10\n",
    "num_col = 10"
   ]
  },
  {
   "cell_type": "markdown",
   "metadata": {},
   "source": [
    "## Create instance and initialize environment"
   ]
  },
  {
   "cell_type": "code",
   "execution_count": 7,
   "metadata": {
    "colab": {
     "base_uri": "https://localhost:8080/"
    },
    "id": "KntSbl8GvVwx",
    "outputId": "758132de-dec2-4d98-9618-de9f9b703b7d",
    "tags": []
   },
   "outputs": [],
   "source": [
    "#Creating problem instance using defined variables\n",
    "current_customer_list, current_truck_capacity, total_truck_capacity, depot_location = \\\n",
    "normalized_instance_creator(cust_max_dem, truck_cap, num_cust, num_row, num_col)"
   ]
  },
  {
   "cell_type": "code",
   "execution_count": 8,
   "metadata": {},
   "outputs": [
    {
     "name": "stdout",
     "output_type": "stream",
     "text": [
      "Current Customer List: [(0.028374068073512837, 0.4451605526204878), [(0.3123437306519917, 0.856528480317826), 4, 0.49986232224777416, 0.49986232224777416, (0.2839696625784789, 0.4113679276973382), (0.2839696625784789, 0.4113679276973382)], [(0.8155065607094858, 0.9098971543661772), 4, 0.9140884366216716, 0.9140884366216716, (0.787132492635973, 0.4647366017456894), (0.787132492635973, 0.4647366017456894)]]\n",
      "Depot: (0.028374068073512837, 0.4451605526204878)\n",
      "12\n"
     ]
    }
   ],
   "source": [
    "print(f\"Current Customer List: {current_customer_list}\")\n",
    "print(f\"Depot: {depot_location}\")\n",
    "print(current_truck_capacity)"
   ]
  },
  {
   "cell_type": "code",
   "execution_count": 9,
   "metadata": {},
   "outputs": [
    {
     "data": {
      "text/plain": [
       "'\\ncurrent_customer_list=[(0.5713983064930748, 0.25629041075862413), [(0.06974965339065708, 0.42880593763728103), 1, 0.53048372093184, 0.53048372093184, (-0.5016486531024177, 0.1725155268786569), (-0.5016486531024177, 0.1725155268786569)], [(0.4826180685491871, 0.8120491227123205), 5, 0.5628051852655633, 0.5628051852655633, (-0.08878023794388767, 0.5557587119536964), (-0.08878023794388767, 0.5557587119536964)], [(0.5234962953864742, 0.00013782863896771858), 3, 0.26059306973636925, 0.26059306973636925, (-0.04790201110660053, -0.2561525821196564), (-0.04790201110660053, -0.2561525821196564)], [(0.5826235908704464, 0.1921595093971432), 4, 0.06510591001429024, 0.06510591001429024, (0.01122528437737158, -0.06413090136148092), (0.01122528437737158, -0.06413090136148092)], [(0.3775478651857056, 0.7854706461334632), 2, 0.5635687314839529, 0.5635687314839529, (-0.19385044130736917, 0.529180235374839), (-0.19385044130736917, 0.529180235374839)]]\\ndepot_location = (0.5713983064930748, 0.25629041075862413)\\ntotal_truck_capacity=12\\ncurrent_truck_capacity=12\\n'"
      ]
     },
     "execution_count": 9,
     "metadata": {},
     "output_type": "execute_result"
    }
   ],
   "source": [
    "#KEVIN\n",
    "\"\"\"\n",
    "current_customer_list=[(0.5713983064930748, 0.25629041075862413), [(0.06974965339065708, 0.42880593763728103), 1, 0.53048372093184, 0.53048372093184, (-0.5016486531024177, 0.1725155268786569), (-0.5016486531024177, 0.1725155268786569)], [(0.4826180685491871, 0.8120491227123205), 5, 0.5628051852655633, 0.5628051852655633, (-0.08878023794388767, 0.5557587119536964), (-0.08878023794388767, 0.5557587119536964)], [(0.5234962953864742, 0.00013782863896771858), 3, 0.26059306973636925, 0.26059306973636925, (-0.04790201110660053, -0.2561525821196564), (-0.04790201110660053, -0.2561525821196564)], [(0.5826235908704464, 0.1921595093971432), 4, 0.06510591001429024, 0.06510591001429024, (0.01122528437737158, -0.06413090136148092), (0.01122528437737158, -0.06413090136148092)], [(0.3775478651857056, 0.7854706461334632), 2, 0.5635687314839529, 0.5635687314839529, (-0.19385044130736917, 0.529180235374839), (-0.19385044130736917, 0.529180235374839)]]\n",
    "depot_location = (0.5713983064930748, 0.25629041075862413)\n",
    "total_truck_capacity=12\n",
    "current_truck_capacity=12\n",
    "\"\"\""
   ]
  },
  {
   "cell_type": "code",
   "execution_count": 10,
   "metadata": {
    "colab": {
     "base_uri": "https://localhost:8080/",
     "height": 390
    },
    "id": "uG1-QJMpjqBs",
    "outputId": "13c937ee-33c1-4985-cb66-e47612c2f3e5",
    "tags": []
   },
   "outputs": [],
   "source": [
    "# Test the environment\n",
    "# Making the enviromenet, using the created matrices from the creeated problem instance\n",
    "env = gym.make('vehicleRouting-v0', current_customer_list=current_customer_list, \\\n",
    "               current_truck_capacity=current_truck_capacity, \\\n",
    "               total_truck_capacity=total_truck_capacity, depot_location=depot_location)\n",
    "#Checks if you are in ipython enviroment\n",
    "is_ipython = 'inline' in matplotlib.get_backend()\n",
    "#If true, then import display which is used later for the visual plots\n",
    "if is_ipython:\n",
    "    from IPython import display\n",
    "#Makes the plots interactive, so that the plots are visualized and changing as new data is being created\n",
    "plt.ion()\n",
    "#Check if there is dedicated GPU, otherwise use CPU\n",
    "device = torch.device(\"cuda\" if torch.cuda.is_available() else \"cpu\")\n"
   ]
  },
  {
   "cell_type": "code",
   "execution_count": 11,
   "metadata": {
    "tags": []
   },
   "outputs": [
    {
     "name": "stderr",
     "output_type": "stream",
     "text": [
      "/home/aidan/anaconda3/envs/rl/lib/python3.10/site-packages/gym/utils/passive_env_checker.py:174: UserWarning: \u001b[33mWARN: Future gym versions will require that `Env.reset` can be passed a `seed` instead of using `Env.seed` for resetting the environment random number generator.\u001b[0m\n",
      "  logger.warn(\n",
      "/home/aidan/anaconda3/envs/rl/lib/python3.10/site-packages/gym/utils/passive_env_checker.py:187: UserWarning: \u001b[33mWARN: Future gym versions will require that `Env.reset` can be passed `options` to allow the environment initialisation to be passed additional information.\u001b[0m\n",
      "  logger.warn(\n",
      "/home/aidan/anaconda3/envs/rl/lib/python3.10/site-packages/gym/utils/passive_env_checker.py:137: UserWarning: \u001b[33mWARN: The obs returned by the `reset()` method was expecting a numpy array, actual type: <class 'list'>\u001b[0m\n",
      "  logger.warn(\n",
      "/home/aidan/anaconda3/envs/rl/lib/python3.10/site-packages/gym/spaces/box.py:227: UserWarning: \u001b[33mWARN: Casting input x to numpy array.\u001b[0m\n",
      "  logger.warn(\"Casting input x to numpy array.\")\n"
     ]
    }
   ],
   "source": [
    "#Defining the environment action space number and reset environment\n",
    "n_actions=env.action_space.n\n",
    "state, info =env.reset()"
   ]
  },
  {
   "cell_type": "code",
   "execution_count": 12,
   "metadata": {
    "scrolled": true,
    "tags": []
   },
   "outputs": [
    {
     "name": "stdout",
     "output_type": "stream",
     "text": [
      "States: [[1, 0, 0], 0.028374068073512837, 0.4451605526204878, 0.3123437306519917, 0.856528480317826, 4, 0.49986232224777416, 0.49986232224777416, 0.2839696625784789, 0.4113679276973382, 0.2839696625784789, 0.4113679276973382, 0.8155065607094858, 0.9098971543661772, 4, 0.9140884366216716, 0.9140884366216716, 0.787132492635973, 0.4647366017456894, 0.787132492635973, 0.4647366017456894, 12, 12]\n",
      "States List: [1, 0, 0, 0.028374068073512837, 0.4451605526204878, 0.3123437306519917, 0.856528480317826, 4, 0.49986232224777416, 0.49986232224777416, 0.2839696625784789, 0.4113679276973382, 0.2839696625784789, 0.4113679276973382, 0.8155065607094858, 0.9098971543661772, 4, 0.9140884366216716, 0.9140884366216716, 0.787132492635973, 0.4647366017456894, 0.787132492635973, 0.4647366017456894, 12, 12]\n",
      "Visited: []\n",
      "Unvisited: [1, 2]\n",
      "Current Customer List: [(0.028374068073512837, 0.4451605526204878), [(0.3123437306519917, 0.856528480317826), 4, 0.49986232224777416, 0.49986232224777416, (0.2839696625784789, 0.4113679276973382), (0.2839696625784789, 0.4113679276973382)], [(0.8155065607094858, 0.9098971543661772), 4, 0.9140884366216716, 0.9140884366216716, (0.787132492635973, 0.4647366017456894), (0.787132492635973, 0.4647366017456894)]]\n",
      "Truck Current Capacity: 12\n",
      "Truck Max Capacity: 12\n",
      "Depot Location: (0.028374068073512837, 0.4451605526204878)\n",
      "Position List: [1, 0, 0]\n"
     ]
    }
   ],
   "source": [
    "#Testing the render function\n",
    "env.render()"
   ]
  },
  {
   "cell_type": "code",
   "execution_count": 13,
   "metadata": {
    "tags": []
   },
   "outputs": [],
   "source": [
    "#Defining transition\n",
    "Transition = namedtuple('Transition',\n",
    "                        ('state', 'action', 'next_state', 'reward'))\n",
    "\n",
    "#Creating replay memory class\n",
    "class ReplayMemory(object):\n",
    "\n",
    "    def __init__(self, capacity):\n",
    "        self.memory = deque([], maxlen=capacity)\n",
    "\n",
    "    def push(self, *args):\n",
    "        \"\"\"Save a transition\"\"\"\n",
    "        self.memory.append(Transition(*args))\n",
    "#        new_transition = Transition(*args)\n",
    "#        # Check for an existing transition with matching state and action\n",
    "#        match_found = False\n",
    "#        for existing_transition in self.memory:\n",
    "#            state_match = torch.equal(existing_transition.state, new_transition.state)\n",
    "#            action_match = torch.equal(existing_transition.action, new_transition.action)\n",
    "#            if state_match and action_match:\n",
    "#                match_found = True\n",
    "#                break\n",
    "#        if not match_found:\n",
    "#            self.memory.append(new_transition)\n",
    "\n",
    "    def sample(self, batch_size):\n",
    "        return r.sample(self.memory, batch_size)\n",
    "\n",
    "    def __len__(self):\n",
    "        return len(self.memory)"
   ]
  },
  {
   "cell_type": "code",
   "execution_count": 14,
   "metadata": {
    "tags": []
   },
   "outputs": [],
   "source": [
    "#Defining DQN class, input layer is the observations (flattened states list)\n",
    "#Two layers of 128 nodes each\n",
    "#Output layer of the number of actions\n",
    "class DQN(nn.Module):\n",
    "\n",
    "    def __init__(self, n_observations, n_actions):\n",
    "        print(f'*** Initializing with {n_observations}, {n_actions}')\n",
    "        super(DQN, self).__init__()\n",
    "        self.layer1 = nn.Linear(n_observations, 32)\n",
    "        self.ln1 = nn.LayerNorm(32)\n",
    "        self.layer2 = nn.Linear(32, 16)\n",
    "        self.ln2 = nn.LayerNorm(16)\n",
    "        self.layer3 = nn.Linear(16, n_actions)\n",
    "\n",
    "    # Called with either one element to determine next action, or a batch\n",
    "    # during optimization. Returns tensor([[left0exp,right0exp]...]).\n",
    "    def forward(self, x):\n",
    "        x = F.relu(self.ln1(self.layer1(x)))\n",
    "        x = F.relu(self.ln2(self.layer2(x)))\n",
    "#        x = F.relu(self.layer3(x))\n",
    "        return self.layer3(x)"
   ]
  },
  {
   "cell_type": "markdown",
   "metadata": {},
   "source": [
    "## Test Single Step"
   ]
  },
  {
   "cell_type": "code",
   "execution_count": 15,
   "metadata": {
    "tags": []
   },
   "outputs": [],
   "source": [
    "def select_action(state, exclude_indices):\n",
    "    global steps_done\n",
    "    global global_eps_threshold\n",
    "\n",
    "    DEBUG_SELECT= False\n",
    "    sample = r.random()\n",
    "#Eps threshold is used for exploitation vs exploration\n",
    "#When the sample is greater than the calculated eps threshold, then the NN is taking the policy selected action (exploitation)\n",
    "#When the sample is not greater, then the NN is choosing a random action (exploration)\n",
    "#The ending eps value is added to the difference between the starting and ending epsilon value, which would\n",
    "#This is multiplied by e^(-1 times the number of steps over the decay value of 1000). Meaning that as the number\n",
    "#of steps increase than -1 is multiplied by a larger fraction and therefore, the expression, m.exp(-1. * steps_done / EPS_DECAY)\n",
    "#is becoming a smaller fraction. And since the fraction is being multplied by eps end and the difference of end and start,\n",
    "#the entire express is decreasing over time, and therefore, more samples are greater than the threshold leading\n",
    "#to more exploitation\n",
    "    eps_threshold = EPS_END + (EPS_START - EPS_END) * \\\n",
    "        m.exp(-1. * steps_done / EPS_DECAY)\n",
    "    steps_done += 1\n",
    "    global_eps_threshold = eps_threshold\n",
    "    # DEBUG\n",
    "    if sample > eps_threshold:\n",
    "        with torch.no_grad():\n",
    "            # t.max(1) will return the largest column value of each row.\n",
    "            # second column on max result is index of where max element was\n",
    "            # found, so we pick action with the larger expected reward.\n",
    "            # Create a mask for the actions to exclude\n",
    "            action_values = policy_net(state)\n",
    "            #print(f\"action_values: {action_values}\")\n",
    "            #Create array of boolean values for the mask\n",
    "            exclude_mask = torch.full_like(action_values, float('0'), dtype=torch.bool)\n",
    "            #Sets corresponding values in row 0 of exclude mask to True if exclude indicies indicates it\n",
    "            exclude_mask[0,exclude_indices] = True\n",
    "            #print(f\"exclude_mask: {exclude_mask}\")\n",
    "            #Sets masked out corresponding values to negative infinity so that no matter what, the network will not choose them\n",
    "            #because of their high negative reward (negative inf)\n",
    "            masked_action_values = torch.where(exclude_mask, torch.tensor(float('-inf')), action_values)\n",
    "            if DEBUG_SELECT:\n",
    "                print(f\"Masked Action Values: {masked_action_values}\")\n",
    "            return masked_action_values.max(1).indices.view(1,1)\n",
    "            # return policy_net(state).max(1).indices.view(1, 1)\n",
    "    else:\n",
    "        sample_action = env.action_space.sample()\n",
    "        while sample_action in exclude_indices:\n",
    "            sample_action = env.action_space.sample()\n",
    "        return torch.tensor([[sample_action]], device=device, dtype=torch.long)\n",
    "\n",
    "\n",
    "def select_action_no_exploration(state, exclude_indices):\n",
    "    global steps_done\n",
    "    global global_eps_threshold\n",
    "\n",
    "    DEBUG_SELECT= False\n",
    "    sample = r.random()\n",
    "    with torch.no_grad():\n",
    "        # t.max(1) will return the largest column value of each row.\n",
    "        # second column on max result is index of where max element was\n",
    "        # found, so we pick action with the larger expected reward.\n",
    "        # Create a mask for the actions to exclude\n",
    "        action_values = policy_net(state)\n",
    "        #print(f\"action_values: {action_values}\")\n",
    "        #Create array of boolean values for the mask\n",
    "        exclude_mask = torch.full_like(action_values, float('0'), dtype=torch.bool)\n",
    "        #Sets corresponding values in row 0 of exclude mask to True if exclude indicies indicates it\n",
    "        exclude_mask[0,exclude_indices] = True\n",
    "        #print(f\"exclude_mask: {exclude_mask}\")\n",
    "        #Sets masked out corresponding values to negative infinity so that no matter what, the network will not choose them\n",
    "        #because of their high negative reward (negative inf)\n",
    "        masked_action_values = torch.where(exclude_mask, torch.tensor(float('-inf')), action_values)\n",
    "        if DEBUG_SELECT:\n",
    "            print(f\"Masked Action Values: {masked_action_values}\")\n",
    "        return masked_action_values.max(1).indices.view(1,1)\n",
    "\n",
    "episode_costs = []\n",
    "episode_losses= []\n",
    "episode_percent_max_costs = []\n",
    "episode_percent_avg_max_costs = []\n",
    "episode_percent_avg_max_cost_indices = []\n",
    "\n",
    "def plot_all_costs(title_str = '',show_result=False):\n",
    "    plt.figure(1)\n",
    "    costs_t = torch.tensor(episode_percent_max_costs, dtype=torch.float)\n",
    "    losses = torch.tensor(episode_losses, dtype=torch.float)\n",
    "    epoches= list(range(1,len(costs_t)+1))\n",
    "\n",
    "    if show_result == False:\n",
    "        plt.clf()\n",
    "    fig, ax1 = plt.subplots()\n",
    "    \n",
    "    # Plot the first series on ax1\n",
    "    color = 'tab:blue'\n",
    "    test_color = 'tab:red'\n",
    "    if show_result:\n",
    "        ax1.set_title(f'Result ({title_str})')\n",
    "    else:\n",
    "        ax1.set_title(f'Training... ({title_str})')\n",
    "    ax1.set_xlabel('Epoch')\n",
    "    ax1.set_ylabel('Negative Percent Cost of Max', color=color)\n",
    "    if len(costs_t) >=100:\n",
    "        ax1.plot(epoches[101:], costs_t[101:], color=color)\n",
    "        ax1.tick_params(axis='y', labelcolor=color)\n",
    "        means = costs_t.unfold(0, 100, 1).mean(1).view(-1)\n",
    "        means = torch.cat((torch.zeros(99), means))\n",
    "        ax1.plot(epoches[101:], means[101:].numpy(), color='tab:orange')\n",
    "        indices = [x for x in episode_percent_avg_max_cost_indices if x >=100]\n",
    "        #print(f\"episode_percent_avg_max_cost_indices: {episode_percent_avg_max_cost_indices}, indices: {indices}\")\n",
    "        #print(f\"episode_percent_avg_max_costs: {episode_percent_avg_max_costs}  len: len(indices)\")\n",
    "        #print(f\"episode_percent_avg_max_costs[-len:]: {episode_percent_avg_max_costs[-len(indices):]}\")\n",
    "        if len(indices)>0:\n",
    "            ax1.plot(indices, episode_percent_avg_max_costs[-len(indices):], color = test_color)\n",
    "    else:\n",
    "        ax1.plot(epoches, costs_t, color=color)\n",
    "        ax1.plot(episode_percent_avg_max_cost_indices, episode_percent_avg_max_costs, color = test_color)\n",
    "        ax1.tick_params(axis='y', labelcolor=color)\n",
    "    \n",
    "    \n",
    "    # Create ax2 that shares the same x-axis with ax1\n",
    "    ax2 = ax1.twinx()  \n",
    "    color = 'tab:green'\n",
    "    ax2.set_ylabel('Nnet Loss', color=color)  \n",
    "    if len(costs_t) >=100:\n",
    "        means = losses.unfold(0, 100, 1).mean(1).view(-1)\n",
    "        means = torch.cat((torch.zeros(99), means))\n",
    "        ax2.plot(epoches[101:], means[101:].numpy(), color=color)\n",
    "        ax2.tick_params(axis='y', labelcolor=color)\n",
    "    else:\n",
    "        ax2.plot(epoches, losses, color=color)\n",
    "        ax2.tick_params(axis='y', labelcolor=color)\n",
    "    \n",
    "    fig.tight_layout()  # To ensure a neat layout\n",
    "    if is_ipython:\n",
    "        if not show_result:\n",
    "            display.display(plt.gcf())\n",
    "            display.clear_output(wait=True)\n",
    "        else:\n",
    "            display.display(plt.gcf())\n",
    "\n",
    "\n",
    "def plot_costs(title_str = '',show_result=False):\n",
    "    plt.figure(1)\n",
    "    costs_t = torch.tensor(episode_costs, dtype=torch.float)\n",
    "    losses = torch.tensor(episode_losses, dtype=torch.float)\n",
    "    epoches= list(range(1,len(costs_t)+1))\n",
    "\n",
    "    if show_result == False:\n",
    "        plt.clf()\n",
    "    fig, ax1 = plt.subplots()\n",
    "    \n",
    "    # Plot the first series on ax1\n",
    "    color = 'tab:blue'\n",
    "    if show_result:\n",
    "        ax1.set_title(f'Result ({title_str})')\n",
    "    else:\n",
    "        ax1.set_title(f'Training... ({title_str})')\n",
    "    ax1.set_xlabel('Epoch')\n",
    "    ax1.set_ylabel('Negative Cost', color=color)\n",
    "    if len(costs_t) >=100:\n",
    "        ax1.plot(epoches[101:], costs_t[101:], color=color)\n",
    "        ax1.tick_params(axis='y', labelcolor=color)\n",
    "        means = costs_t.unfold(0, 100, 1).mean(1).view(-1)\n",
    "        means = torch.cat((torch.zeros(99), means))\n",
    "        ax1.plot(epoches[101:], means[101:].numpy(), color='tab:orange')\n",
    "    else:\n",
    "        ax1.plot(epoches, costs_t, color=color)\n",
    "        ax1.tick_params(axis='y', labelcolor=color)\n",
    "    \n",
    "    \n",
    "    # Create ax2 that shares the same x-axis with ax1\n",
    "    ax2 = ax1.twinx()  \n",
    "    color = 'tab:green'\n",
    "    ax2.set_ylabel('Nnet Loss', color=color)  \n",
    "    if len(costs_t) >=100:\n",
    "        means = losses.unfold(0, 100, 1).mean(1).view(-1)\n",
    "        means = torch.cat((torch.zeros(99), means))\n",
    "        ax2.plot(epoches[101:], means[101:].numpy(), color=color)\n",
    "        ax2.tick_params(axis='y', labelcolor=color)\n",
    "    else:\n",
    "        ax2.plot(epoches, losses, color=color)\n",
    "        ax2.tick_params(axis='y', labelcolor=color)\n",
    "    \n",
    "    fig.tight_layout()  # To ensure a neat layout\n",
    "    if is_ipython:\n",
    "        if not show_result:\n",
    "            display.display(plt.gcf())\n",
    "            display.clear_output(wait=True)\n",
    "        else:\n",
    "            display.display(plt.gcf())\n"
   ]
  },
  {
   "cell_type": "code",
   "execution_count": 16,
   "metadata": {},
   "outputs": [],
   "source": [
    "def opt():\n",
    "    DEBUG_OPT=True\n",
    "    if len(memory) < BATCH_SIZE:\n",
    "        return\n",
    "    transitions = memory.sample(BATCH_SIZE)\n",
    "    # Transpose the batch (see https://stackoverflow.com/a/19343/3343043 for\n",
    "    # detailed explanation). This converts batch-array of Transitions\n",
    "    # to Transition of batch-arrays.\n",
    "    batch = Transition(*zip(*transitions))\n",
    "\n",
    "    # Compute a mask of non-final states and concatenate the batch elements\n",
    "    # (a final state would've been the one after which simulation ended)\n",
    "    non_final_mask = torch.tensor(tuple(map(lambda s: s is not None,\n",
    "                                          batch.next_state)), device=device, dtype=torch.bool)\n",
    "    non_final_next_states = torch.cat([s for s in batch.next_state\n",
    "                                                if s is not None])\n",
    "    state_batch = torch.cat(batch.state)\n",
    "    action_batch = torch.cat(batch.action)\n",
    "    reward_batch = torch.cat(batch.reward)\n",
    "\n",
    "    # Compute Q(s_t, a) - the model computes Q(s_t), then we select the\n",
    "    # columns of actions taken. These are the actions which would've been taken\n",
    "    # for each batch state according to policy_net\n",
    "    state_action_values = policy_net(state_batch).gather(1, action_batch)\n",
    "\n",
    "    # Compute V(s_{t+1}) for all next states.\n",
    "    # Expected values of actions for non_final_next_states are computed based\n",
    "    # on the \"older\" target_net; selecting their best reward with max(1).values\n",
    "    # This is merged based on the mask, such that we'll have either the expected\n",
    "    # state value or 0 in case the state was final.\n",
    "    next_state_values = torch.zeros(BATCH_SIZE, device=device)\n",
    "    # with torch.no_grad():\n",
    "    #    next_state_values[non_final_mask] = target_net(non_final_next_states).max(1).values\n",
    "\n",
    "    with torch.no_grad():\n",
    "        action_values = target_net(non_final_next_states)\n",
    "        exclude_mask = torch.full_like(action_values, float('0'), dtype=torch.bool)\n",
    "        #Sets corresponding values in row 0 of exclude mask to True if exclude indicies indicates it\n",
    "#        exclude_indices = [env.get_invalid_ones_w_states(e.tolist()) for e in non_final_next_states.to('cpu')]\n",
    "        exclude_indices=[]\n",
    "        for row_idx, cols in enumerate(exclude_indices):\n",
    "            for col_idx in cols:\n",
    "                exclude_mask[row_idx, col_idx] = True\n",
    "        masked_action_values = torch.where(exclude_mask, torch.tensor(float('-inf')), action_values)\n",
    "        next_state_values[non_final_mask] = masked_action_values.max(1).values\n",
    "    # Compute the expected Q values\n",
    "    expected_state_action_values = (next_state_values * GAMMA) + reward_batch\n",
    "\n",
    "    # Compute Huber loss\n",
    "    criterion = nn.SmoothL1Loss()\n",
    "    loss = criterion(state_action_values, expected_state_action_values.unsqueeze(1))\n",
    "    if DEBUG_OPT and opt_cnt%100:\n",
    "        print(f\"state: {state_batch}\")\n",
    "        pritn(f\"action: {action_batch}\")\n",
    "        print(f\"reward: {reward_batch}\")\n",
    "        print(f\"expected_state_action_values: {expected_state_action_values}\")\n",
    "        print(f\"state_action_values: {state_action_values}\")\n",
    "        pritn(f\"loss: {loss}\")\n",
    "\n",
    "    # Optimize the model\n",
    "    optimizer.zero_grad()\n",
    "    loss.backward()\n",
    "    # In-place gradient clipping\n",
    "    torch.nn.utils.clip_grad_value_(policy_net.parameters(), 100)\n",
    "    optimizer.step()"
   ]
  },
  {
   "cell_type": "code",
   "execution_count": 17,
   "metadata": {
    "tags": []
   },
   "outputs": [],
   "source": [
    "def optimize_model():\n",
    "    global opt_cnt;\n",
    "    global opt_loss;\n",
    "    DEBUG = False\n",
    "    if len(memory) < BATCH_SIZE:\n",
    "        return\n",
    "    transitions = memory.sample(BATCH_SIZE)\n",
    "    # Transpose the batch (see https://stackoverflow.com/a/19343/3343043 for\n",
    "    # detailed explanation). This converts batch-array of Transitions\n",
    "    # to Transition of batch-arrays.\n",
    "    batch = Transition(*zip(*transitions))\n",
    "\n",
    "    # Compute a mask of non-final states and concatenate the batch elements\n",
    "    # (a final state would've been the one after which simulation ended)\n",
    "    non_final_mask = torch.tensor(tuple(map(lambda s: s is not None,\n",
    "                                          batch.next_state)), device=device, dtype=torch.bool)\n",
    "    non_final_next_states = torch.cat([s for s in batch.next_state\n",
    "                                                if s is not None])\n",
    "    state_batch = torch.cat(batch.state)\n",
    "    action_batch = torch.cat(batch.action)\n",
    "    reward_batch = torch.cat(batch.reward)\n",
    "\n",
    "    # Compute Q(s_t, a) - the model computes Q(s_t), then we select the\n",
    "    # columns of actions taken. These are the actions which would've been taken\n",
    "    # for each batch state according to policy_net\n",
    "    state_action_values = policy_net(state_batch).gather(1, action_batch)\n",
    "\n",
    "    # Compute V(s_{t+1}) for all next states.\n",
    "    # Expected values of actions for non_final_next_states are computed based\n",
    "    # on the \"older\" target_net; selecting their best reward with max(1).values\n",
    "    # This is merged based on the mask, such that we'll have either the expected\n",
    "    # state value or 0 in case the state was final.\n",
    "    next_state_values = torch.zeros(BATCH_SIZE, device=device)\n",
    "    # with torch.no_grad():\n",
    "    #    next_state_values[non_final_mask] = target_net(non_final_next_states).max(1).values\n",
    "\n",
    "    with torch.no_grad():\n",
    "        action_values = target_net(non_final_next_states)\n",
    "        exclude_mask = torch.full_like(action_values, float('0'), dtype=torch.bool)\n",
    "        #Sets corresponding values in row 0 of exclude mask to True if exclude indicies indicates it\n",
    "        exclude_indices = [env.get_invalid_ones_w_states(e.tolist()) for e in non_final_next_states.to('cpu')]\n",
    "        for row_idx, cols in enumerate(exclude_indices):\n",
    "            for col_idx in cols:\n",
    "                exclude_mask[row_idx, col_idx] = True\n",
    "        masked_action_values = torch.where(exclude_mask, torch.tensor(float('-inf')), action_values)\n",
    "        next_state_values[non_final_mask] = masked_action_values.max(1).values\n",
    "    # Compute the expected Q values\n",
    "    expected_state_action_values = (next_state_values * GAMMA) + reward_batch\n",
    "\n",
    "    # Compute Huber loss\n",
    "    criterion = nn.SmoothL1Loss()\n",
    "    loss = criterion(state_action_values, expected_state_action_values.unsqueeze(1))\n",
    "    opt_loss = loss\n",
    "    opt_cnt+=1\n",
    "    if DEBUG and opt_cnt%100 == 1:\n",
    "        print(f\"opt_cnt: {opt_cnt} ******************************************************************************************************************************************\")\n",
    "        print(f\"state: {state_batch}\")\n",
    "        print(f\"action: {action_batch.tolist()}\")\n",
    "        print(f\"reward: {reward_batch}\")\n",
    "        print(f\"masked_action_values: {masked_action_values}\")\n",
    "        print(f\"next_state_values: {next_state_values}\")\n",
    "        print(f\"expected_state_action_values: {expected_state_action_values}\")\n",
    "        print(f\"state_action_values: {state_action_values.tolist()}\")\n",
    "        print(f\"loss: {loss}\")\n",
    "    # Optimize the model\n",
    "    optimizer.zero_grad()\n",
    "    loss.backward()\n",
    "    # In-place gradient clipping\n",
    "    torch.nn.utils.clip_grad_value_(policy_net.parameters(), 100)\n",
    "    optimizer.step()"
   ]
  },
  {
   "cell_type": "markdown",
   "metadata": {},
   "source": [
    "## Run x number of episodes and plot"
   ]
  },
  {
   "cell_type": "code",
   "execution_count": 18,
   "metadata": {
    "scrolled": true,
    "tags": []
   },
   "outputs": [
    {
     "name": "stdout",
     "output_type": "stream",
     "text": [
      "*** Initializing with 25, 4\n",
      "*** Initializing with 25, 4\n"
     ]
    }
   ],
   "source": [
    "#Reset NN\n",
    "#Initialize parameters\n",
    "#BATCH_SIZE = 128\n",
    "BATCH_SIZE = 64 # was 256\n",
    "GAMMA = 0.99\n",
    "EPS_START = 0.9 # was 0.9\n",
    "EPS_END = 0.01 # was 0.05\n",
    "EPS_DECAY= 5000 # was 1000\n",
    "TAU = 0.02 # was 0.05\n",
    "LR = 1e-3 # MODIFIED from 1e-5\n",
    "#LR = 1e-6 (worked)\n",
    "REPLAY_MEM_SIZE = 1000 # was 1000\n",
    "# Get number of actions from gym action space\n",
    "n_actions = env.action_space.n\n",
    "# Get the number of state observations\n",
    "state, info = env.reset()\n",
    "n_observations = len(state)\n",
    "\n",
    "policy_net = DQN(n_observations, n_actions).to(device)\n",
    "target_net = DQN(n_observations, n_actions).to(device)\n",
    "target_net.load_state_dict(policy_net.state_dict())\n",
    "\n",
    "optimizer = optim.AdamW(policy_net.parameters(), lr=LR, amsgrad=True)\n",
    "scheduler = torch.optim.lr_scheduler.StepLR(optimizer, step_size=500, gamma=0.5)\n",
    "memory = ReplayMemory(REPLAY_MEM_SIZE)\n",
    "\n",
    "\n",
    "steps_done = 0\n",
    "opt_cnt = 0\n",
    "opt_loss=0.0"
   ]
  },
  {
   "cell_type": "code",
   "execution_count": 19,
   "metadata": {},
   "outputs": [],
   "source": [
    "def solve_VRP(data, inference_only=False, debug=False):\n",
    "    if debug:\n",
    "        if inference_only:\n",
    "            print(\"===> Inferencing ....\")\n",
    "        else:\n",
    "            print(\"===> Training .......\")\n",
    "    #Creating problem instance using defined variables\n",
    "    env.config(data[\"current_customer_list\"], \\\n",
    "               data[\"current_truck_capacity\"], \\\n",
    "               data[\"total_truck_capacity\"], \\\n",
    "               data[\"depot_location\"])\n",
    "    \n",
    "    state, info = env.reset()\n",
    "    env.reorder_customers()\n",
    "    env.update()\n",
    "    state = env.get_state()\n",
    "    state = torch.tensor(state, dtype=torch.float32, device=device).unsqueeze(0)\n",
    "\n",
    "    total_cost = 0.0\n",
    "    visited = [0]\n",
    "    path=[]\n",
    "    rewards=[]\n",
    "    for t in count():\n",
    "        #Print information for debugging and training\n",
    "        invalid_ones = env.get_invalid_ones()\n",
    "        if debug:\n",
    "            print(f\"{t} -------------------------------------------------\")\n",
    "            print(f'invalid_ones = {invalid_ones}')\n",
    "        if inference_only:\n",
    "            action = select_action_no_exploration(state, invalid_ones)\n",
    "        else:\n",
    "            action = select_action(state, invalid_ones)\n",
    "        if debug: \n",
    "            print(f\"action selected: {action.item()}\")\n",
    "            print(f\"path so far: {path}\") \n",
    "        observation, reward, terminated, truncated, info = env.step(action.item())\n",
    "        #if reward <= -env.max_dist:\n",
    "        #    reward = -1.0\n",
    "        if debug: \n",
    "            print(f\"Step done ---------------------\")\n",
    "            print(f\"cur_cust_list: {env.current_customer_list}\")\n",
    "            print(f\"observation: {observation}\")\n",
    "            print(f\"reward: {reward}\")\n",
    "            print(f\"terminated: {terminated}, truncated: {truncated}\")\n",
    "        v = env.get_visited()\n",
    "        u = env.get_unvisited()\n",
    "        if debug: \n",
    "            print(f\"visited: {v}\")\n",
    "            print(f\"unvisited: {u}\")\n",
    "        total_cost = total_cost + reward\n",
    "        visited = copy.deepcopy(info[\"visited\"])\n",
    "        if action.item() not in visited:\n",
    "            visited.append(action.item())\n",
    "        rewards.append(-reward)\n",
    "        reward = torch.tensor([reward], device=device)\n",
    "        done = terminated or truncated\n",
    "        if debug:\n",
    "            print(f\"done: {done}\")\n",
    "        visited = copy.deepcopy(info[\"visited\"])\n",
    "        unvisited = copy.deepcopy(info[\"unvisited\"])\n",
    "        if action.item()==2:\n",
    "            path.append([action.item(), visited, unvisited])\n",
    "        else:\n",
    "            path.append([action.item(), \"no customer selected\", \"\"])\n",
    "        if terminated:\n",
    "            next_state = None\n",
    "        else:\n",
    "            next_state = torch.tensor(observation, dtype=torch.float32, device=device).unsqueeze(0)\n",
    "\n",
    "        # Push to Replay Memory only if it's training\n",
    "        if not inference_only:\n",
    "            # Store the transition in memory\n",
    "            memory.push(state, action, next_state, reward)\n",
    "            if state is not None:\n",
    "                temp = [t.tolist() for t in flat_states]\n",
    "                #print(f\"temp: {temp}\")\n",
    "                if state.tolist() not in temp:\n",
    "                    flat_states.append(state)\n",
    "            if next_state is not None:\n",
    "                temp = [t.tolist() for t in flat_states]\n",
    "                if next_state.tolist() not in temp:\n",
    "                    flat_states.append(next_state)\n",
    "        \n",
    "        # Move to the next state\n",
    "        state = next_state\n",
    "\n",
    "        # if training, update the weights and models\n",
    "        if not inference_only:\n",
    "            if debug:\n",
    "                print(\"Calling optimize_model ...\")\n",
    "            optimize_model()\n",
    "            if debug:\n",
    "                print(\"Done optimize model.\")\n",
    "           # Soft update of the target network's weights\n",
    "           # θ′ ← τ θ + (1 −τ )θ′\n",
    "            target_net_state_dict = target_net.state_dict()\n",
    "            policy_net_state_dict = policy_net.state_dict()\n",
    "            for key in policy_net_state_dict: \n",
    "                target_net_state_dict[key] = policy_net_state_dict[key]*TAU + target_net_state_dict[key]*(1-TAU)\n",
    "            target_net.load_state_dict(target_net_state_dict)            \n",
    "        if done:\n",
    "            break        \n",
    "    return total_cost, path"
   ]
  },
  {
   "cell_type": "code",
   "execution_count": null,
   "metadata": {},
   "outputs": [
    {
     "data": {
      "image/png": "[encoded data removed]",
      "text/plain": [
       "<Figure size 640x480 with 2 Axes>"
      ]
     },
     "metadata": {},
     "output_type": "display_data"
    }
   ],
   "source": [
    "import Data_Utils as DU\n",
    "\n",
    "if torch.cuda.is_available():\n",
    "    num_episodes = 20000\n",
    "else:\n",
    "    num_episodes = 800\n",
    "num_epoch_to_save =500\n",
    "num_epoch_to_test = 50\n",
    "DEBUG = False\n",
    "DEBUG_TRAIN= False\n",
    "DEBUG_INFERENCE=False\n",
    "PLOT = True\n",
    "flat_states=[]\n",
    "global_eps_threshold = 1.0\n",
    "num_cust=2\n",
    "max_cust_capacity=5\n",
    "truck_capacity=10\n",
    "num_samples=5\n",
    "data_path=None\n",
    "data_prefix=None\n",
    "current_lr = optimizer.param_groups[0]['lr']\n",
    "\n",
    "best_test_percent_avg_max_cost=10\n",
    "\n",
    "seed = 12345\n",
    "data_gen = DU.dataGenerator(num_cust, max_cust_capacity, truck_capacity, num_samples, data_path, data_prefix, seed=None)\n",
    "data_performance = DU.dataPerformance(data_gen.get_test_data_all(), data_gen.get_num_samples)\n",
    "\n",
    "for i_episode in range(num_episodes):\n",
    "#    print(f\"[{i_episode}] *********************************************************\")\n",
    "    train_data = data_gen.get_train_next()\n",
    "    if DEBUG:\n",
    "        print(f\"**** training data: {train_data}\")\n",
    "    total_cost, _ = solve_VRP(train_data[0], inference_only=False, debug=DEBUG_TRAIN)\n",
    "    current_customer_list = train_data[0][\"current_customer_list\"]\n",
    "    depot_location = train_data[0][\"depot_location\"]\n",
    "    max_dist = 0\n",
    "    for customer in current_customer_list:\n",
    "        if customer!=depot_location:\n",
    "            max_dist+=2*customer[2]\n",
    "    # For Plotting and Logging\n",
    "    if DEBUG:\n",
    "        print(f\"**** training total_cost / max_dist: {total_cost} / {max_dist}\")\n",
    "    episode_percent_max_costs.append(-total_cost/max_dist) \n",
    "    episode_losses.append(opt_loss)\n",
    "    mean = np.mean(episode_percent_max_costs[-100:])   \n",
    "    if i_episode%num_epoch_to_save==0:\n",
    "        pass\n",
    "        ### TODO: save the model with extension of num_epoch_to_save\n",
    "        \n",
    "    if i_episode%num_epoch_to_test==0: \n",
    "        #start_idx, test_data = data_gen.get_test_next()\n",
    "        start_idx = 0\n",
    "        test_data = data_gen.get_test_data_ranged(start_idx, num_samples)\n",
    "        test_idx = start_idx\n",
    "\n",
    "        sum_percent_max_cost=0.0\n",
    "        for data in test_data:\n",
    "            if DEBUG:\n",
    "                print(f\"**** test data: {data}\")\n",
    "            test_total_cost, path = solve_VRP(data, inference_only=True, debug=DEBUG_INFERENCE)\n",
    "            if DEBUG:\n",
    "                print(f\"**** test total_cost: {total_cost}\")\n",
    "            test_best_episode, test_best_cost, test_best_path, test_max_cost = data_performance.get_sample_performance(test_idx)\n",
    "            sum_percent_max_cost -= test_total_cost/test_max_cost\n",
    "            if type(test_best_cost) is str:\n",
    "                data_performance.update_sample_performance(test_idx, i_episode, total_cost, path)\n",
    "            else:\n",
    "                if test_total_cost > test_best_cost:\n",
    "                    data_performance.update_sample_performance(test_idx, i_episode, total_cost, path)\n",
    "            test_idx+=1\n",
    "        percent_avg_max_cost = sum_percent_max_cost/len(data)\n",
    "        # print(f\"% avg max cost: {percent_avg_max_cost}\")\n",
    "        episode_percent_avg_max_costs.append(percent_avg_max_cost)\n",
    "        if percent_avg_max_cost < best_test_percent_avg_max_cost:\n",
    "            best_test_percent_avg_max_cost = percent_avg_max_cost\n",
    "        episode_percent_avg_max_cost_indices.append(i_episode)\n",
    "    title_str = f'[{i_episode}] -- [{global_eps_threshold:.4f}: {current_lr:.8f}: {opt_loss:.6f}]  Mean Cost:{mean:.4f}  Test (current/best): {percent_avg_max_cost:.4f}/{best_test_percent_avg_max_cost:.4f}'\n",
    "    if DEBUG:\n",
    "        print(\"Before completing loop ****************************** {title_str}\")\n",
    "    if DEBUG == False:\n",
    "        if PLOT == True:\n",
    "            plot_all_costs(title_str=title_str)\n",
    "#    scheduler.step()\n",
    "print(f\"[{i_episode}] -- [{global_eps_threshold:.4f}: {current_lr:.8f}: {opt_loss:.6f}]  Mean Cost:{mean:.4f}  Test (current/best): {percent_avg_max_cost:.4f}/{best_test_percent_avg_max_cost:.4f}\")\n",
    "print('Complete')\n",
    "# HERE\n",
    "if DEBUG == False:\n",
    "    if PLOT == True:\n",
    "        plot_all_costs(show_result=True) \n",
    "        plt.ioff()\n",
    "        plt.show()"
   ]
  },
  {
   "cell_type": "code",
   "execution_count": null,
   "metadata": {
    "tags": []
   },
   "outputs": [],
   "source": [
    "#Train the neural network\n",
    "import Data_Utils\n",
    "\n",
    "def train_model(num_cust, max_cust_capacity, truck_capacity, num_samples, seed=None, data_path, data_prefix, data_path, data_prefix, model_path, model_prefix, \\\n",
    "                Num_epoch_to_test, Num_epoch_to_get_next_train, Num_epoch_to_save_model, DEBUG=False, PLOT=True):\n",
    "    if torch.cuda.is_available():\n",
    "        num_episodes = 20000\n",
    "    else:\n",
    "        num_episodes = 800\n",
    "    best_cost = -1e16\n",
    "    best_mean_cost=-1e16\n",
    "    best_episode = 0\n",
    "    best_mean_episode = 0\n",
    "    last_best_episode = 0\n",
    "    best_path = []\n",
    "    DEBUG = DEBUG\n",
    "    PLOT = PLOT\n",
    "    flat_states=[]\n",
    "    global_eps_threshold = 1.0\n",
    "    longest_path=[]\n",
    "    longest_path_cnt=0\n",
    "    \n",
    "    for i_episode in range(num_episodes):\n",
    "\n",
    "        dataGen = dataGenerator(num_cust, max_cust_capacity, truck_capacity, num_samples, seed, data_path, data_prefix)\n",
    "        \n",
    "        if i_episode%num_epoch_to_test==0:\n",
    "        \n",
    "            \n",
    "\n",
    "        else:\n",
    "    \n",
    "        state, info = env.reset()\n",
    "        env.reorder_customers()\n",
    "        env.update()\n",
    "        state = env.get_state()\n",
    "        if DEBUG: \n",
    "            print(f\"[{i_episode}] State: {state} *************************************************************\\n\\n\")\n",
    "            print(f\"Longest path ({longest_path_cnt}) {longest_path}\")\n",
    "        state = torch.tensor(state, dtype=torch.float32, device=device).unsqueeze(0)\n",
    "        \n",
    "        total_cost = 0.0\n",
    "        visited = [0]\n",
    "        path=[]\n",
    "        rewards=[]\n",
    "        current_lr = optimizer.param_groups[0]['lr']\n",
    "        for t in count():\n",
    "            #Print information for debugging and training\n",
    "            invalid_ones = env.get_invalid_ones()\n",
    "            if DEBUG:\n",
    "                print(f\"{t} -------------------------------------------------\")\n",
    "                print(f'invalid_ones = {invalid_ones}')\n",
    "            action = select_action(state, invalid_ones)\n",
    "            if DEBUG: \n",
    "                print(f\"action selected: {action.item()}\")\n",
    "                print(f\"path so far: {path}\") \n",
    "            observation, reward, terminated, truncated, info = env.step(action.item())\n",
    "            #if reward <= -env.max_dist:\n",
    "            #    reward = -1.0\n",
    "            if DEBUG: \n",
    "                print(f\"Step done ---------------------\")\n",
    "                print(f\"cur_cust_list: {env.current_customer_list}\")\n",
    "                print(f\"observation: {observation}\")\n",
    "                print(f\"reward: {reward}\")\n",
    "                print(f\"terminated: {terminated}, truncated: {truncated}\")\n",
    "            v = env.get_visited()\n",
    "            u = env.get_unvisited()\n",
    "            if DEBUG: \n",
    "                print(f\"visited: {v}\")\n",
    "                print(f\"unvisited: {u}\")\n",
    "            total_cost = total_cost + reward\n",
    "            visited = copy.deepcopy(info[\"visited\"])\n",
    "            if action.item() not in visited:\n",
    "                visited.append(action.item())\n",
    "            rewards.append(-reward)\n",
    "            reward = torch.tensor([reward], device=device)\n",
    "            done = terminated or truncated\n",
    "            visited = copy.deepcopy(info[\"visited\"])\n",
    "            unvisited = copy.deepcopy(info[\"unvisited\"])\n",
    "            if action.item()==2:\n",
    "                path.append([action.item(), visited, unvisited])\n",
    "            else:\n",
    "                path.append([action.item(), \"no customer selected\", \"\"])\n",
    "            if terminated:\n",
    "                next_state = None\n",
    "            else:\n",
    "                next_state = torch.tensor(observation, dtype=torch.float32, device=device).unsqueeze(0)\n",
    "            # Store the transition in memory\n",
    "            memory.push(state, action, next_state, reward)\n",
    "            if state is not None:\n",
    "                temp = [t.tolist() for t in flat_states]\n",
    "                #print(f\"temp: {temp}\")\n",
    "                if state.tolist() not in temp:\n",
    "                    flat_states.append(state)\n",
    "            if next_state is not None:\n",
    "                temp = [t.tolist() for t in flat_states]\n",
    "                if next_state.tolist() not in temp:\n",
    "                    flat_states.append(next_state)\n",
    "            # Move to the next state\n",
    "            state = next_state\n",
    "            #print(f\"state: {state}\")\n",
    "            \n",
    "            #print(f\"action: {action.item()}\")\n",
    "            # print(f\"Memory length: {len(memory)}\")\n",
    "           # Perform one step of the optimization (on the policy network)\n",
    "            if DEBUG:\n",
    "                print(\"Calling optimize_model ...\")\n",
    "            optimize_model()\n",
    "            if DEBUG:\n",
    "                print(\"Done optimize model.\")\n",
    "           # Soft update of the target network's weights\n",
    "           # θ′ ← τ θ + (1 −τ )θ′\n",
    "            target_net_state_dict = target_net.state_dict()\n",
    "            policy_net_state_dict = policy_net.state_dict()\n",
    "            for key in policy_net_state_dict: \n",
    "                target_net_state_dict[key] = policy_net_state_dict[key]*TAU + target_net_state_dict[key]*(1-TAU)\n",
    "            target_net.load_state_dict(target_net_state_dict)            \n",
    "            if done:\n",
    "                if DEBUG:\n",
    "                    print(f\"******** Total cost: {total_cost}\")\n",
    "                episode_costs.append(total_cost)\n",
    "                episode_losses.append(opt_loss)\n",
    "                # TODO: the code below has no effect\n",
    "                memory_size = len(memory)\n",
    "                if memory_size > REPLAY_MEM_SIZE:\n",
    "                    replay = True\n",
    "                else:\n",
    "                    replay = False\n",
    "                mean = np.mean(episode_costs[-100:])\n",
    "                if len(path) > longest_path_cnt:\n",
    "                    longest_path_cnt=len(path)\n",
    "                    longest_path=path\n",
    "                if total_cost == best_cost:\n",
    "                    last_best_episode=i_episode\n",
    "                if total_cost>best_cost:\n",
    "                    best_cost=total_cost\n",
    "                    best_path=path\n",
    "                    best_episode = i_episode\n",
    "                    last_best_episode=i_episode\n",
    "                if mean>best_mean_cost:\n",
    "                    best_mean_cost=mean\n",
    "                    best_mean_episode=i_episode\n",
    "                if total_cost<long_cost:\n",
    "                    long_cost= total_cost\n",
    "                    long_path=path\n",
    "                    long_path_visual=[]\n",
    "                    for value in long_path:\n",
    "                        if value[0]==1:\n",
    "                            long_path_visual.append(\"Right\")\n",
    "                            long_path_visual.append(value[1])\n",
    "                        elif value[0]==2:\n",
    "                            long_path_visual.append(\"Select\")\n",
    "                            long_path_visual.append(value[1])\n",
    "                        elif value[0]==3:\n",
    "                            long_path_visual.append(\"Depot\")\n",
    "                            long_path_visual.append(value[1])\n",
    "                    long_visited=visited\n",
    "                    long_rewards=rewards\n",
    "                title_str = f'[{global_eps_threshold:.4f}: {current_lr:.8f}: {opt_loss:.6f}: {long_cost:.4f}/{best_episode}/{last_best_episode}/{i_episode}] [{best_mean_episode}] Mean Cost:{best_mean_cost:.4f}/{mean:.4f}, Best_Cost: {best_cost:.4f}, Longest_Path_Length: {longest_path_cnt}'\n",
    "                if DEBUG == False:\n",
    "                    if PLOT == True:\n",
    "                        plot_costs(title_str=title_str)\n",
    "                break\n",
    "    #    scheduler.step()\n",
    "    print(f\"[{best_episode}: Best cost: {best_cost} and best path: {best_path}\")\n",
    "    print('Complete')\n",
    "    # HERE\n",
    "    if DEBUG == False:\n",
    "        if PLOT == True:\n",
    "            plot_costs(show_result=True) \n",
    "            plt.ioff()\n",
    "            plt.show()"
   ]
  },
  {
   "cell_type": "code",
   "execution_count": null,
   "metadata": {},
   "outputs": [],
   "source": [
    "long_path"
   ]
  },
  {
   "cell_type": "code",
   "execution_count": null,
   "metadata": {},
   "outputs": [],
   "source": []
  },
  {
   "cell_type": "code",
   "execution_count": null,
   "metadata": {},
   "outputs": [],
   "source": []
  },
  {
   "cell_type": "code",
   "execution_count": null,
   "metadata": {},
   "outputs": [],
   "source": []
  },
  {
   "cell_type": "code",
   "execution_count": null,
   "metadata": {},
   "outputs": [],
   "source": []
  },
  {
   "cell_type": "code",
   "execution_count": null,
   "metadata": {},
   "outputs": [],
   "source": []
  },
  {
   "cell_type": "code",
   "execution_count": null,
   "metadata": {},
   "outputs": [],
   "source": []
  },
  {
   "cell_type": "code",
   "execution_count": null,
   "metadata": {},
   "outputs": [],
   "source": []
  },
  {
   "cell_type": "code",
   "execution_count": null,
   "metadata": {},
   "outputs": [],
   "source": [
    "model_filename='layernorm-normalize-debug-2cust-scheduler-nodedop-to_zero_explore.nnet'\n",
    "torch.save(policy_net.state_dict(), model_filename)"
   ]
  },
  {
   "cell_type": "code",
   "execution_count": null,
   "metadata": {},
   "outputs": [],
   "source": [
    "observation"
   ]
  },
  {
   "cell_type": "code",
   "execution_count": null,
   "metadata": {},
   "outputs": [],
   "source": [
    "long_path_visual"
   ]
  },
  {
   "cell_type": "code",
   "execution_count": null,
   "metadata": {},
   "outputs": [],
   "source": [
    "long_cost"
   ]
  },
  {
   "cell_type": "code",
   "execution_count": null,
   "metadata": {},
   "outputs": [],
   "source": [
    "current_customer_list"
   ]
  },
  {
   "cell_type": "code",
   "execution_count": null,
   "metadata": {},
   "outputs": [],
   "source": [
    "env.current_customer_list"
   ]
  },
  {
   "cell_type": "code",
   "execution_count": null,
   "metadata": {},
   "outputs": [],
   "source": [
    "env.max_dist"
   ]
  },
  {
   "cell_type": "code",
   "execution_count": null,
   "metadata": {},
   "outputs": [],
   "source": [
    "14.94427190999916"
   ]
  },
  {
   "cell_type": "code",
   "execution_count": null,
   "metadata": {},
   "outputs": [],
   "source": [
    "env.reset()"
   ]
  },
  {
   "cell_type": "code",
   "execution_count": null,
   "metadata": {},
   "outputs": [],
   "source": []
  },
  {
   "cell_type": "code",
   "execution_count": null,
   "metadata": {},
   "outputs": [],
   "source": []
  },
  {
   "cell_type": "code",
   "execution_count": null,
   "metadata": {},
   "outputs": [],
   "source": []
  },
  {
   "cell_type": "code",
   "execution_count": null,
   "metadata": {},
   "outputs": [],
   "source": []
  },
  {
   "cell_type": "code",
   "execution_count": null,
   "metadata": {},
   "outputs": [],
   "source": []
  },
  {
   "cell_type": "code",
   "execution_count": null,
   "metadata": {},
   "outputs": [],
   "source": [
    "dist1=4.47213595499958/env.max_dist; dist2=3/env.max_dist; print(f\"dist1: {dist1}, dist2: {dist2}\")"
   ]
  },
  {
   "cell_type": "code",
   "execution_count": null,
   "metadata": {},
   "outputs": [],
   "source": [
    "long_path"
   ]
  },
  {
   "cell_type": "code",
   "execution_count": null,
   "metadata": {},
   "outputs": [],
   "source": [
    "best_cost"
   ]
  },
  {
   "cell_type": "code",
   "execution_count": null,
   "metadata": {},
   "outputs": [],
   "source": [
    "best_path"
   ]
  },
  {
   "cell_type": "code",
   "execution_count": null,
   "metadata": {},
   "outputs": [],
   "source": []
  },
  {
   "cell_type": "code",
   "execution_count": null,
   "metadata": {},
   "outputs": [],
   "source": [
    "flat_states observation: [0, 0, 1, 5, 1, 9, 3, 0, 4.47213595499958, 2.23606797749979, 4, 2, 1, 2, 8, 1, 0, 3.0, 0.0, 3, 0, 0, 0, 7, 10]\n"
   ]
  },
  {
   "cell_type": "code",
   "execution_count": null,
   "metadata": {},
   "outputs": [],
   "source": [
    "current_customer_list"
   ]
  },
  {
   "cell_type": "code",
   "execution_count": null,
   "metadata": {},
   "outputs": [],
   "source": [
    "best_path"
   ]
  },
  {
   "cell_type": "code",
   "execution_count": null,
   "metadata": {},
   "outputs": [],
   "source": [
    "long_path_visual"
   ]
  },
  {
   "cell_type": "code",
   "execution_count": null,
   "metadata": {},
   "outputs": [],
   "source": [
    "long_path"
   ]
  },
  {
   "cell_type": "code",
   "execution_count": null,
   "metadata": {},
   "outputs": [],
   "source": [
    "lists = [t.tolist() for t in flat_states]\n",
    "for i in lists:\n",
    "    print(i)\n",
    "    "
   ]
  },
  {
   "cell_type": "code",
   "execution_count": null,
   "metadata": {},
   "outputs": [],
   "source": [
    "policy_net"
   ]
  },
  {
   "cell_type": "code",
   "execution_count": null,
   "metadata": {},
   "outputs": [],
   "source": [
    "long_path"
   ]
  },
  {
   "cell_type": "code",
   "execution_count": null,
   "metadata": {
    "scrolled": true
   },
   "outputs": [],
   "source": [
    "len(long_path)"
   ]
  },
  {
   "cell_type": "code",
   "execution_count": null,
   "metadata": {},
   "outputs": [],
   "source": [
    "long_visited"
   ]
  },
  {
   "cell_type": "code",
   "execution_count": null,
   "metadata": {},
   "outputs": [],
   "source": [
    "len(long_path)*0.001"
   ]
  },
  {
   "cell_type": "code",
   "execution_count": null,
   "metadata": {
    "scrolled": true
   },
   "outputs": [],
   "source": [
    "max_length = 0\n",
    "current_length = 0\n",
    "\n",
    "index=0\n",
    "marked=False\n",
    "lengths=[]\n",
    "for num in long_path:\n",
    "    # Check if the current number is 1\n",
    "    if num == 1 or num==0:\n",
    "        # Increase the length of the current sequence\n",
    "        current_length += 1\n",
    "        # Update the maximum length if the current sequence is longer\n",
    "        if current_length>max_length:\n",
    "            max_length=current_length\n",
    "            if marked == False:\n",
    "                max_index=index\n",
    "            else:\n",
    "                marked=True\n",
    "    else:\n",
    "        lengths.append(current_length)\n",
    "        # Reset the current sequence length if the current number is not 1\n",
    "        current_length = 0\n",
    "        marked=False\n",
    "    index=index+1    \n",
    "print(max_length)"
   ]
  },
  {
   "cell_type": "code",
   "execution_count": null,
   "metadata": {},
   "outputs": [],
   "source": [
    "lengths"
   ]
  },
  {
   "cell_type": "code",
   "execution_count": null,
   "metadata": {},
   "outputs": [],
   "source": [
    "max_index"
   ]
  },
  {
   "cell_type": "code",
   "execution_count": null,
   "metadata": {
    "scrolled": true
   },
   "outputs": [],
   "source": [
    "len(long_path)"
   ]
  },
  {
   "cell_type": "code",
   "execution_count": null,
   "metadata": {},
   "outputs": [],
   "source": [
    "long_path[279716]"
   ]
  },
  {
   "cell_type": "code",
   "execution_count": null,
   "metadata": {},
   "outputs": [],
   "source": [
    "max_length"
   ]
  },
  {
   "cell_type": "code",
   "execution_count": null,
   "metadata": {},
   "outputs": [],
   "source": [
    "current_customer_list"
   ]
  },
  {
   "cell_type": "code",
   "execution_count": null,
   "metadata": {},
   "outputs": [],
   "source": [
    "for i in range(1,len(current_customer_list)):\n",
    "    x=current_customer_list[0][0]\n",
    "    y=current_customer_list[0][1]\n",
    "    dist = m.sqrt((x-current_customer_list[i][0][0])**2+(y-current_customer_list[i][0][1])**2)\n",
    "    print(f\"[{i}] {dist}\")"
   ]
  },
  {
   "cell_type": "code",
   "execution_count": null,
   "metadata": {},
   "outputs": [],
   "source": [
    "b"
   ]
  },
  {
   "cell_type": "code",
   "execution_count": null,
   "metadata": {},
   "outputs": [],
   "source": [
    "total_cost"
   ]
  },
  {
   "cell_type": "code",
   "execution_count": null,
   "metadata": {},
   "outputs": [],
   "source": []
  },
  {
   "cell_type": "markdown",
   "metadata": {},
   "source": [
    "## Single Run of the trained model"
   ]
  },
  {
   "cell_type": "code",
   "execution_count": null,
   "metadata": {},
   "outputs": [],
   "source": []
  },
  {
   "cell_type": "code",
   "execution_count": null,
   "metadata": {
    "tags": []
   },
   "outputs": [],
   "source": [
    "if torch.cuda.is_available():\n",
    "    num_episodes = 40000\n",
    "else:\n",
    "    num_episodes = 800\n",
    "DEBUG = True\n",
    "PLOT = False\n",
    "flat_states=[]\n",
    "global_eps_threshold = 1.0\n",
    "i_episode = 10000\n",
    "state, info = env.reset()\n",
    "env.reorder_customers()\n",
    "env.update()\n",
    "state = torch.tensor(state, dtype=torch.float32, device=device).unsqueeze(0)\n",
    "total_cost = 0.0\n",
    "visited = [0]\n",
    "current_lr = optimizer.param_groups[0]['lr']\n",
    "path=[]\n",
    "if DEBUG:\n",
    "    print(f\"Initial state: {state}\")\n",
    "for t in count():\n",
    "    #Print information for debugging and training\n",
    "    invalid_ones = env.get_invalid_ones()\n",
    "    if DEBUG:\n",
    "        print(f\"{t} -------------------------------------------------\")\n",
    "        print(f'invalid_ones = {invalid_ones}')\n",
    "    action = select_action(state, invalid_ones)\n",
    "    if DEBUG: \n",
    "        print(f\"action selected: {action.item()}\")\n",
    "        print(f\"path so far: {path}\") \n",
    "    observation, reward, terminated, truncated, info = env.step(action.item())\n",
    "    if DEBUG: \n",
    "        print(f\"Step done ---------------------\")\n",
    "        print(f\"cur_cust_list: {env.current_customer_list}\")\n",
    "        print(f\"observation: {observation}\")\n",
    "        print(f\"reward: {reward}\")\n",
    "        print(f\"terminated: {terminated}, truncated: {truncated}\")\n",
    "    v = env.get_visited()\n",
    "    u = env.get_unvisited()\n",
    "    if DEBUG: \n",
    "        print(f\"visited: {v}\")\n",
    "        print(f\"unvisited: {u}\")\n",
    "    total_cost = total_cost + reward\n",
    "    visited = copy.deepcopy(info[\"visited\"])\n",
    "    if action.item() not in visited:\n",
    "        visited.append(action.item())\n",
    "    reward = torch.tensor([reward], device=device)\n",
    "    done = terminated or truncated\n",
    "    visited = copy.deepcopy(info[\"visited\"])\n",
    "    unvisited = copy.deepcopy(info[\"unvisited\"])\n",
    "    if action.item()==2:\n",
    "        path.append([action.item(), visited, unvisited])\n",
    "    else:\n",
    "        path.append([action.item(), \"no customer selected\", \"\"])\n",
    "    if terminated:\n",
    "        next_state = None\n",
    "    else:\n",
    "        next_state = torch.tensor(observation, dtype=torch.float32, device=device).unsqueeze(0)\n",
    "    # Move to the next state\n",
    "    state = next_state\n",
    "    if done:\n",
    "        if DEBUG:\n",
    "            print(f\"******** Total cost: {total_cost}\")\n",
    "        if DEBUG == False:\n",
    "            if PLOT == True:\n",
    "                plot_costs(title_str=title_str)\n",
    "        break\n",
    "    scheduler.step()\n",
    "print('Complete')\n",
    "# HERE\n",
    "if DEBUG == False:\n",
    "    if PLOT == True:\n",
    "        plot_costs(show_result=True) \n",
    "        plt.ioff()\n",
    "        plt.show()\n",
    "\n",
    "[0, 1, 0, 5, 1, 9, 3, 5, 4.47213595499958, 4.47213595499958, 4, 2, 4, 2, 8, 1, 3, 3.0, 3.0, 3, 0, 3, 0, 10, 10]"
   ]
  },
  {
   "cell_type": "code",
   "execution_count": null,
   "metadata": {},
   "outputs": [],
   "source": [
    "env.max_dist"
   ]
  },
  {
   "cell_type": "code",
   "execution_count": null,
   "metadata": {},
   "outputs": [],
   "source": []
  },
  {
   "cell_type": "code",
   "execution_count": null,
   "metadata": {},
   "outputs": [],
   "source": []
  },
  {
   "cell_type": "code",
   "execution_count": null,
   "metadata": {},
   "outputs": [],
   "source": []
  },
  {
   "cell_type": "code",
   "execution_count": null,
   "metadata": {},
   "outputs": [],
   "source": []
  },
  {
   "cell_type": "markdown",
   "metadata": {},
   "source": [
    "## Test the trained network"
   ]
  },
  {
   "cell_type": "code",
   "execution_count": null,
   "metadata": {
    "tags": []
   },
   "outputs": [],
   "source": [
    "#Reset environment\n",
    "state, info = env.reset()\n",
    "visited = [0]\n",
    "state = torch.tensor(state, dtype=torch.float32, device=device).unsqueeze(0)\n",
    "\n",
    "total_cost = 0  # Variable to store the total reward for this episode\n",
    "actions_taken = []  # List to store the actions taken"
   ]
  },
  {
   "cell_type": "code",
   "execution_count": null,
   "metadata": {
    "tags": []
   },
   "outputs": [],
   "source": [
    "#See the state info\n",
    "state"
   ]
  },
  {
   "cell_type": "code",
   "execution_count": null,
   "metadata": {},
   "outputs": [],
   "source": [
    "env.get_invalid_ones()"
   ]
  },
  {
   "cell_type": "code",
   "execution_count": null,
   "metadata": {
    "tags": []
   },
   "outputs": [],
   "source": [
    "#Run first step\n",
    "action = select_action(state, visited)\n",
    "print(f\"action selected: {action}\")\n",
    "observation, reward, terminated, truncated, info = env.step(action.item())\n",
    "print(f\"observation: {observation}\")\n",
    "print(f\"reward: {reward}\")\n",
    "print(f\"terminated: {terminated}, truncated: {truncated}\")\n",
    "v = env.get_visited()\n",
    "u = env.get_unvisited()\n",
    "print(f\"visited: {v}\")\n",
    "print(f\"unvisited: {u}\")\n",
    "total_cost = total_cost + reward\n",
    "visited = copy.deepcopy(info[\"visited\"])\n",
    "if action.item() not in visited:\n",
    "    visited.append(action.item())\n",
    "done = terminated or truncated\n",
    "print(f\"Total cost so far: {total_cost}\")"
   ]
  },
  {
   "cell_type": "code",
   "execution_count": null,
   "metadata": {
    "tags": []
   },
   "outputs": [],
   "source": [
    "#Second step\n",
    "action = select_action(state, visited)\n",
    "print(f\"action selected: {action}\")\n",
    "observation, reward, terminated, truncated, info = env.step(action.item())\n",
    "print(f\"observation: {observation}\")\n",
    "print(f\"reward: {reward}\")\n",
    "print(f\"terminated: {terminated}, truncated: {truncated}\")\n",
    "v = env.get_visited()\n",
    "u = env.get_unvisited()\n",
    "print(f\"visited: {v}\")\n",
    "print(f\"unvisited: {u}\")\n",
    "total_cost = total_cost + reward\n",
    "visited = copy.deepcopy(info[\"visited\"])\n",
    "if action.item() not in visited:\n",
    "    visited.append(action.item())\n",
    "done = terminated or truncated\n",
    "print(f\"Total cost so far: {total_cost}\")"
   ]
  },
  {
   "cell_type": "code",
   "execution_count": null,
   "metadata": {},
   "outputs": [],
   "source": [
    "#Third step\n",
    "action = select_action(state, visited)\n",
    "print(f\"action selected: {action}\")\n",
    "observation, reward, terminated, truncated, info = env.step(action.item())\n",
    "print(f\"observation: {observation}\")\n",
    "print(f\"reward: {reward}\")\n",
    "print(f\"terminated: {terminated}, truncated: {truncated}\")\n",
    "v = env.get_visited()\n",
    "u = env.get_unvisited()\n",
    "print(f\"visited: {v}\")\n",
    "print(f\"unvisited: {u}\")\n",
    "total_cost = total_cost + reward\n",
    "visited = copy.deepcopy(info[\"visited\"])\n",
    "if action.item() not in visited:\n",
    "    visited.append(action.item())\n",
    "done = terminated or truncated\n",
    "print(f\"Total cost so far: {total_cost}\")"
   ]
  },
  {
   "cell_type": "code",
   "execution_count": null,
   "metadata": {},
   "outputs": [],
   "source": [
    "#Fourth step\n",
    "action = select_action(state, visited)\n",
    "print(f\"action selected: {action}\")\n",
    "observation, reward, terminated, truncated, info = env.step(action.item())\n",
    "print(f\"observation: {observation}\")\n",
    "print(f\"reward: {reward}\")\n",
    "print(f\"terminated: {terminated}, truncated: {truncated}\")\n",
    "v = env.get_visited()\n",
    "u = env.get_unvisited()\n",
    "print(f\"visited: {v}\")\n",
    "print(f\"unvisited: {u}\")\n",
    "total_cost = total_cost + reward\n",
    "visited = copy.deepcopy(info[\"visited\"])\n",
    "if action.item() not in visited:\n",
    "    visited.append(action.item())\n",
    "done = terminated or truncated\n",
    "print(f\"Total cost so far: {total_cost}\")"
   ]
  },
  {
   "cell_type": "code",
   "execution_count": null,
   "metadata": {},
   "outputs": [],
   "source": [
    "#Fifth step\n",
    "action = select_action(state, visited)\n",
    "print(f\"action selected: {action}\")\n",
    "observation, reward, terminated, truncated, info = env.step(action.item())\n",
    "print(f\"observation: {observation}\")\n",
    "print(f\"reward: {reward}\")\n",
    "print(f\"terminated: {terminated}, truncated: {truncated}\")\n",
    "v = env.get_visited()\n",
    "u = env.get_unvisited()\n",
    "print(f\"visited: {v}\")\n",
    "print(f\"unvisited: {u}\")\n",
    "total_cost = total_cost + reward\n",
    "visited = copy.deepcopy(info[\"visited\"])\n",
    "if action.item() not in visited:\n",
    "    visited.append(action.item())\n",
    "done = terminated or truncated\n",
    "print(f\"Total cost so far: {total_cost}\")"
   ]
  },
  {
   "cell_type": "code",
   "execution_count": null,
   "metadata": {},
   "outputs": [],
   "source": [
    "#Sixth step\n",
    "action = select_action(state, visited)\n",
    "print(f\"action selected: {action}\")\n",
    "observation, reward, terminated, truncated, info = env.step(action.item())\n",
    "print(f\"observation: {observation}\")\n",
    "print(f\"reward: {reward}\")\n",
    "print(f\"terminated: {terminated}, truncated: {truncated}\")\n",
    "v = env.get_visited()\n",
    "u = env.get_unvisited()\n",
    "print(f\"visited: {v}\")\n",
    "print(f\"unvisited: {u}\")\n",
    "total_cost = total_cost + reward\n",
    "visited = copy.deepcopy(info[\"visited\"])\n",
    "if action.item() not in visited:\n",
    "    visited.append(action.item())\n",
    "done = terminated or truncated\n",
    "print(f\"Total cost so far: {total_cost}\")"
   ]
  },
  {
   "cell_type": "code",
   "execution_count": null,
   "metadata": {},
   "outputs": [],
   "source": [
    "#Seventh step\n",
    "action = select_action(state, visited)\n",
    "print(f\"action selected: {action}\")\n",
    "observation, reward, terminated, truncated, info = env.step(action.item())\n",
    "print(f\"observation: {observation}\")\n",
    "print(f\"reward: {reward}\")\n",
    "print(f\"terminated: {terminated}, truncated: {truncated}\")\n",
    "v = env.get_visited()\n",
    "u = env.get_unvisited()\n",
    "print(f\"visited: {v}\")\n",
    "print(f\"unvisited: {u}\")\n",
    "total_cost = total_cost + reward\n",
    "visited = copy.deepcopy(info[\"visited\"])\n",
    "if action.item() not in visited:\n",
    "    visited.append(action.item())\n",
    "done = terminated or truncated\n",
    "print(f\"Total cost so far: {total_cost}\")"
   ]
  },
  {
   "cell_type": "code",
   "execution_count": null,
   "metadata": {},
   "outputs": [],
   "source": [
    "#Eigth step\n",
    "action = select_action(state, visited)\n",
    "print(f\"action selected: {action}\")\n",
    "observation, reward, terminated, truncated, info = env.step(action.item())\n",
    "print(f\"observation: {observation}\")\n",
    "print(f\"reward: {reward}\")\n",
    "print(f\"terminated: {terminated}, truncated: {truncated}\")\n",
    "v = env.get_visited()\n",
    "u = env.get_unvisited()\n",
    "print(f\"visited: {v}\")\n",
    "print(f\"unvisited: {u}\")\n",
    "total_cost = total_cost + reward\n",
    "visited = copy.deepcopy(info[\"visited\"])\n",
    "if action.item() not in visited:\n",
    "    visited.append(action.item())\n",
    "done = terminated or truncated\n",
    "print(f\"Total cost so far: {total_cost}\")"
   ]
  },
  {
   "cell_type": "code",
   "execution_count": null,
   "metadata": {},
   "outputs": [],
   "source": [
    "#Ninth step\n",
    "action = select_action(state, visited)\n",
    "print(f\"action selected: {action}\")\n",
    "observation, reward, terminated, truncated, info = env.step(action.item())\n",
    "print(f\"observation: {observation}\")\n",
    "print(f\"reward: {reward}\")\n",
    "print(f\"terminated: {terminated}, truncated: {truncated}\")\n",
    "v = env.get_visited()\n",
    "u = env.get_unvisited()\n",
    "print(f\"visited: {v}\")\n",
    "print(f\"unvisited: {u}\")\n",
    "total_cost = total_cost + reward\n",
    "visited = copy.deepcopy(info[\"visited\"])\n",
    "if action.item() not in visited:\n",
    "    visited.append(action.item())\n",
    "done = terminated or truncated\n",
    "print(f\"Total cost so far: {total_cost}\")"
   ]
  },
  {
   "cell_type": "code",
   "execution_count": null,
   "metadata": {},
   "outputs": [],
   "source": []
  }
 ],
 "metadata": {
  "colab": {
   "provenance": []
  },
  "kernelspec": {
   "display_name": "rl",
   "language": "python",
   "name": "rl"
  },
  "language_info": {
   "codemirror_mode": {
    "name": "ipython",
    "version": 3
   },
   "file_extension": ".py",
   "mimetype": "text/x-python",
   "name": "python",
   "nbconvert_exporter": "python",
   "pygments_lexer": "ipython3",
   "version": "3.10.14"
  }
 },
 "nbformat": 4,
 "nbformat_minor": 4
}
