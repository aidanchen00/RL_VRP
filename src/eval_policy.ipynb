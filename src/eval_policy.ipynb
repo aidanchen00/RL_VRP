{
 "cells": [
  {
   "cell_type": "code",
   "execution_count": 13,
   "id": "1f86151d-8d57-4d43-8544-9934a5a34b2e",
   "metadata": {},
   "outputs": [],
   "source": [
    "import torch.nn as nn\n",
    "import torch\n",
    "import torch.nn.functional as F"
   ]
  },
  {
   "cell_type": "code",
   "execution_count": 2,
   "id": "508e6c32-ebbf-4c6f-a3a1-12fd262d6dcd",
   "metadata": {},
   "outputs": [],
   "source": [
    "class DQN(nn.Module):\n",
    "\n",
    "    def __init__(self, n_observations, n_actions):\n",
    "        print(f'*** Initializing with {n_observations}, {n_actions}')\n",
    "        super(DQN, self).__init__()\n",
    "        self.layer1 = nn.Linear(n_observations, 32)\n",
    "        self.ln1 = nn.LayerNorm(32)\n",
    "        self.layer2 = nn.Linear(32, 16)\n",
    "        self.ln2 = nn.LayerNorm(16)\n",
    "        self.layer3 = nn.Linear(16, n_actions)\n",
    "\n",
    "    # Called with either one element to determine next action, or a batch\n",
    "    # during optimization. Returns tensor([[left0exp,right0exp]...]).\n",
    "    def forward(self, x):\n",
    "        x = F.relu(self.ln1(self.layer1(x)))\n",
    "        x = F.relu(self.ln2(self.layer2(x)))\n",
    "#        x = F.relu(self.layer3(x))\n",
    "        return self.layer3(x)"
   ]
  },
  {
   "cell_type": "code",
   "execution_count": 3,
   "id": "ffa175af-ed2d-4dda-8411-0723c0c20494",
   "metadata": {},
   "outputs": [],
   "source": [
    "n_observations=25\n",
    "n_actions=4"
   ]
  },
  {
   "cell_type": "code",
   "execution_count": 4,
   "id": "0285a74f-1005-4df4-a2f3-5329891ce7d5",
   "metadata": {},
   "outputs": [
    {
     "name": "stdout",
     "output_type": "stream",
     "text": [
      "*** Initializing with 25, 4\n"
     ]
    }
   ],
   "source": [
    "model = DQN(n_observations, n_actions)"
   ]
  },
  {
   "cell_type": "code",
   "execution_count": 5,
   "id": "dfaba1b2-6422-4a64-8dc1-f2d988466291",
   "metadata": {},
   "outputs": [
    {
     "data": {
      "text/plain": [
       "<All keys matched successfully>"
      ]
     },
     "execution_count": 5,
     "metadata": {},
     "output_type": "execute_result"
    }
   ],
   "source": [
    "model_path = \"layernorm-normalize-debug-2cust-scheduler-nodedop-to_zero_explore.nnet\"  # Adjust path as necessary\n",
    "model.load_state_dict(torch.load(model_path))"
   ]
  },
  {
   "cell_type": "code",
   "execution_count": 6,
   "id": "401d2fd9-b692-48db-8d08-964b497a3e1a",
   "metadata": {},
   "outputs": [
    {
     "data": {
      "text/plain": [
       "DQN(\n",
       "  (layer1): Linear(in_features=25, out_features=32, bias=True)\n",
       "  (ln1): LayerNorm((32,), eps=1e-05, elementwise_affine=True)\n",
       "  (layer2): Linear(in_features=32, out_features=16, bias=True)\n",
       "  (ln2): LayerNorm((16,), eps=1e-05, elementwise_affine=True)\n",
       "  (layer3): Linear(in_features=16, out_features=4, bias=True)\n",
       ")"
      ]
     },
     "execution_count": 6,
     "metadata": {},
     "output_type": "execute_result"
    }
   ],
   "source": [
    "device = torch.device(\"cuda\" if torch.cuda.is_available() else \"cpu\")\n",
    "model.load_state_dict(torch.load(model_path, map_location=device))\n",
    "model.to(device) "
   ]
  },
  {
   "cell_type": "code",
   "execution_count": 42,
   "id": "b4c2e3e6-d8a6-417d-8cb0-4c46efb2320b",
   "metadata": {},
   "outputs": [],
   "source": [
    "max_dist=14.94427190999916"
   ]
  },
  {
   "cell_type": "code",
   "execution_count": 43,
   "id": "6c810075-4699-44d1-ba61-0fac368b95ce",
   "metadata": {},
   "outputs": [],
   "source": [
    "observation=[1, 0, 0, 5, 1, 9, 3, 5, 4.47213595499958, 4.47213595499958, 4, 2, 4, 2, 8, 1, 3, 3.0, 3.0, 3, 0, 3, 0, 10, 10]\n",
    "observation[8]=observation[8]/max_dist\n",
    "observation[9]=observation[9]/max_dist\n",
    "observation[17]=observation[17]/max_dist\n",
    "observation[18]=observation[18]/max_dist"
   ]
  },
  {
   "cell_type": "code",
   "execution_count": 44,
   "id": "c11c0f00-238e-4de8-9fc6-e0a6066555ff",
   "metadata": {},
   "outputs": [
    {
     "data": {
      "text/plain": [
       "[1,\n",
       " 0,\n",
       " 0,\n",
       " 5,\n",
       " 1,\n",
       " 9,\n",
       " 3,\n",
       " 5,\n",
       " 0.2992541879546028,\n",
       " 0.2992541879546028,\n",
       " 4,\n",
       " 2,\n",
       " 4,\n",
       " 2,\n",
       " 8,\n",
       " 1,\n",
       " 3,\n",
       " 0.20074581204539718,\n",
       " 0.20074581204539718,\n",
       " 3,\n",
       " 0,\n",
       " 3,\n",
       " 0,\n",
       " 10,\n",
       " 10]"
      ]
     },
     "execution_count": 44,
     "metadata": {},
     "output_type": "execute_result"
    }
   ],
   "source": [
    "observation"
   ]
  },
  {
   "cell_type": "code",
   "execution_count": 37,
   "id": "735a9c41-4a43-44b6-8d31-fdb5e482ea7a",
   "metadata": {},
   "outputs": [],
   "source": [
    "state=torch.tensor(observation, dtype=torch.float32, device=device).unsqueeze(0)"
   ]
  },
  {
   "cell_type": "code",
   "execution_count": 38,
   "id": "43f4da33-d9ad-47da-83f9-a3f95a4c0a34",
   "metadata": {},
   "outputs": [
    {
     "data": {
      "text/plain": [
       "tensor([[ 1.0000,  0.0000,  0.0000,  5.0000,  1.0000,  9.0000,  3.0000,  5.0000,\n",
       "          0.2993,  0.2993,  4.0000,  2.0000,  4.0000,  2.0000,  8.0000,  1.0000,\n",
       "          3.0000,  0.2007,  0.2007,  3.0000,  0.0000,  3.0000,  0.0000, 10.0000,\n",
       "         10.0000]], device='cuda:0')"
      ]
     },
     "execution_count": 38,
     "metadata": {},
     "output_type": "execute_result"
    }
   ],
   "source": [
    "state"
   ]
  },
  {
   "cell_type": "code",
   "execution_count": 39,
   "id": "b1aca112-dfcf-4e6e-9d9a-ab1f67df472e",
   "metadata": {},
   "outputs": [
    {
     "data": {
      "text/plain": [
       "DQN(\n",
       "  (layer1): Linear(in_features=25, out_features=32, bias=True)\n",
       "  (ln1): LayerNorm((32,), eps=1e-05, elementwise_affine=True)\n",
       "  (layer2): Linear(in_features=32, out_features=16, bias=True)\n",
       "  (ln2): LayerNorm((16,), eps=1e-05, elementwise_affine=True)\n",
       "  (layer3): Linear(in_features=16, out_features=4, bias=True)\n",
       ")"
      ]
     },
     "execution_count": 39,
     "metadata": {},
     "output_type": "execute_result"
    }
   ],
   "source": [
    "model.eval()"
   ]
  },
  {
   "cell_type": "code",
   "execution_count": 40,
   "id": "26b2e656-e2fe-46fd-b967-f0e6bf8d7dc3",
   "metadata": {},
   "outputs": [],
   "source": [
    "action_values = model(state)"
   ]
  },
  {
   "cell_type": "code",
   "execution_count": 41,
   "id": "9e2a5276-5364-4bbf-bba8-2684fcb181aa",
   "metadata": {},
   "outputs": [
    {
     "data": {
      "text/plain": [
       "tensor([[ 0.1425,  0.1870,  0.1848, -0.3884]], device='cuda:0',\n",
       "       grad_fn=<AddmmBackward0>)"
      ]
     },
     "execution_count": 41,
     "metadata": {},
     "output_type": "execute_result"
    }
   ],
   "source": [
    "action_values"
   ]
  },
  {
   "cell_type": "code",
   "execution_count": 21,
   "id": "e041abf4-0650-48a5-a05b-0c544beab501",
   "metadata": {},
   "outputs": [],
   "source": [
    "observation=[0, 1, 0, 5, 1, 9, 3, 5, 4.47213595499958, 4.47213595499958, 4, 2, 4, 2, 8, 1, 3, 3.0, 3.0, 3, 0, 3, 0, 10, 10]\n",
    "observation[8]=observation[8]/max_dist\n",
    "observation[9]=observation[9]/max_dist\n",
    "observation[17]=observation[17]/max_dist\n",
    "observation[18]=observation[18]/max_dist\n",
    "state=torch.tensor(observation, dtype=torch.float32, device=device).unsqueeze(0)"
   ]
  },
  {
   "cell_type": "code",
   "execution_count": 22,
   "id": "934ade87-36d5-4374-8cbf-e013854205f9",
   "metadata": {},
   "outputs": [
    {
     "data": {
      "text/plain": [
       "tensor([[ 0.0687,  0.3876, -0.2408, -0.1966]], device='cuda:0',\n",
       "       grad_fn=<AddmmBackward0>)"
      ]
     },
     "execution_count": 22,
     "metadata": {},
     "output_type": "execute_result"
    }
   ],
   "source": [
    "action_values = model(state)\n",
    "action_values"
   ]
  },
  {
   "cell_type": "code",
   "execution_count": 23,
   "id": "a3a96041-5746-410a-8fb6-d94f4f515d81",
   "metadata": {},
   "outputs": [],
   "source": [
    "observation=[0, 0, 1, 5, 1, 9, 3, 5, 4.47213595499958, 4.47213595499958, 4, 2, 4, 2, 8, 1, 3, 3.0, 3.0, 3, 0, 3, 0, 10, 10]\n",
    "observation[8]=observation[8]/max_dist\n",
    "observation[9]=observation[9]/max_dist\n",
    "observation[17]=observation[17]/max_dist\n",
    "observation[18]=observation[18]/max_dist\n",
    "state=torch.tensor(observation, dtype=torch.float32, device=device).unsqueeze(0)"
   ]
  },
  {
   "cell_type": "code",
   "execution_count": 24,
   "id": "57c250c7-5726-47ee-a5f4-b45559f41f84",
   "metadata": {},
   "outputs": [
    {
     "data": {
      "text/plain": [
       "tensor([[ 0.1795,  0.3390,  0.1555, -0.2040]], device='cuda:0',\n",
       "       grad_fn=<AddmmBackward0>)"
      ]
     },
     "execution_count": 24,
     "metadata": {},
     "output_type": "execute_result"
    }
   ],
   "source": [
    "action_values = model(state)\n",
    "action_values"
   ]
  },
  {
   "cell_type": "code",
   "execution_count": null,
   "id": "3bd272b8-8c6e-465c-8f4d-7dd1f85be7eb",
   "metadata": {},
   "outputs": [],
   "source": []
  }
 ],
 "metadata": {
  "kernelspec": {
   "display_name": "rl",
   "language": "python",
   "name": "rl"
  },
  "language_info": {
   "codemirror_mode": {
    "name": "ipython",
    "version": 3
   },
   "file_extension": ".py",
   "mimetype": "text/x-python",
   "name": "python",
   "nbconvert_exporter": "python",
   "pygments_lexer": "ipython3",
   "version": "3.10.12"
  }
 },
 "nbformat": 4,
 "nbformat_minor": 5
}
